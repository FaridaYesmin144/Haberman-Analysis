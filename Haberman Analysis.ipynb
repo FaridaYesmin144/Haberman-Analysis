{
 "cells": [
  {
   "cell_type": "markdown",
   "id": "379573a6",
   "metadata": {},
   "source": [
    "# Dataset Summary"
   ]
  },
  {
   "cell_type": "markdown",
   "id": "bb38d33f",
   "metadata": {},
   "source": [
    "The Haberman's survival dataset includes cases from a study done between 1958 and 1970 at the University of Chicago's Billings Hospital. \n",
    "The study focused on the survival of patients who had breast cancer surgery."
   ]
  },
  {
   "cell_type": "markdown",
   "id": "d159c945",
   "metadata": {},
   "source": [
    "# The information of features"
   ]
  },
  {
   "cell_type": "raw",
   "id": "66ffbb9c",
   "metadata": {},
   "source": [
    "There are 4 features including class label and dependent variable.\n",
    "1. Age: \n",
    "    Description: Age of patient at time of operation (numerical)\n",
    "    Range: Typically between 30 and 83 years.\n",
    "    \n",
    "2. Operation_year: \n",
    "    Description: Patient's year of operation (year - 1900, numerical)\n",
    "    Range: The dataset usually spans a few years (1958 to 1970).\n",
    "    \n",
    "3. Axil_nodes: \n",
    "    Description:Number of positive axillary nodes detected (numerical)\n",
    "    Range: Usually between 0 and 52,\n",
    "4. Status: \n",
    "    Description: Survival status (class attribute) 1 = the patient survived 5 years or longer 2 = the patient died within 5 years\n",
    "    Type: Categorical (binary)\n"
   ]
  },
  {
   "cell_type": "markdown",
   "id": "b983dc47",
   "metadata": {},
   "source": [
    "Objectives:\n",
    "1. To classify the persons who are survived after the surgery and who are dead after the surgery from the given data set.\n",
    "2. To find out model accuracy from Haberman's Survival Data\n",
    "3. To find out survival metrics.\n",
    "    \n",
    "\n"
   ]
  },
  {
   "cell_type": "markdown",
   "id": "d54b28d5",
   "metadata": {},
   "source": [
    "# Analysis:"
   ]
  },
  {
   "cell_type": "markdown",
   "id": "29c2bab8",
   "metadata": {},
   "source": [
    "### In this part, I am analyzing this dataset to answer the following questions"
   ]
  },
  {
   "cell_type": "markdown",
   "id": "3dc9bae1",
   "metadata": {},
   "source": [
    "1. Determine the number of survivors and non-survivors with three axillary nodes involved.\n",
    "2. How many patients have fewer than or exactly 6 lymph nodes?\n",
    "3. What number of axillary nodes corresponds to the highest number of survivors?\n",
    "4. To determine the maximum number of non-survivors, how many axil nodes are needed?\n",
    "5. At what ages were the most people alive?\n",
    "6. At what ages were not the most people alive?\n",
    "7. For each age, what percentage survived and what percentage did not?\n",
    "8. At what ages were people 100% alive?\n",
    "9. At which ages did everyone pass away?\n",
    "10. Which unique age values exhibit 100% survival and 100% non-survival across all combinations of operation_year and axil_nodes?"
   ]
  },
  {
   "cell_type": "markdown",
   "id": "debba3ca",
   "metadata": {},
   "source": [
    "# Import the necessary packages"
   ]
  },
  {
   "cell_type": "code",
   "execution_count": 1,
   "id": "2372c35c",
   "metadata": {},
   "outputs": [],
   "source": [
    "import pandas as pd  # Data analysis and manipulation \n",
    "import numpy as np   # Numerical operations\n",
    "\n",
    "# Data visualization\n",
    "import matplotlib.pyplot as plt\n",
    "import seaborn as sns"
   ]
  },
  {
   "cell_type": "markdown",
   "id": "1bad3a8c",
   "metadata": {},
   "source": [
    "# Load the dataset"
   ]
  },
  {
   "cell_type": "code",
   "execution_count": 2,
   "id": "5c18f5b8",
   "metadata": {},
   "outputs": [
    {
     "data": {
      "text/html": [
       "<div>\n",
       "<style scoped>\n",
       "    .dataframe tbody tr th:only-of-type {\n",
       "        vertical-align: middle;\n",
       "    }\n",
       "\n",
       "    .dataframe tbody tr th {\n",
       "        vertical-align: top;\n",
       "    }\n",
       "\n",
       "    .dataframe thead th {\n",
       "        text-align: right;\n",
       "    }\n",
       "</style>\n",
       "<table border=\"1\" class=\"dataframe\">\n",
       "  <thead>\n",
       "    <tr style=\"text-align: right;\">\n",
       "      <th></th>\n",
       "      <th>age</th>\n",
       "      <th>operation_year</th>\n",
       "      <th>axil_nodes</th>\n",
       "      <th>status</th>\n",
       "    </tr>\n",
       "  </thead>\n",
       "  <tbody>\n",
       "    <tr>\n",
       "      <th>0</th>\n",
       "      <td>30</td>\n",
       "      <td>64</td>\n",
       "      <td>1</td>\n",
       "      <td>1</td>\n",
       "    </tr>\n",
       "    <tr>\n",
       "      <th>1</th>\n",
       "      <td>30</td>\n",
       "      <td>62</td>\n",
       "      <td>3</td>\n",
       "      <td>1</td>\n",
       "    </tr>\n",
       "    <tr>\n",
       "      <th>2</th>\n",
       "      <td>30</td>\n",
       "      <td>65</td>\n",
       "      <td>0</td>\n",
       "      <td>1</td>\n",
       "    </tr>\n",
       "    <tr>\n",
       "      <th>3</th>\n",
       "      <td>31</td>\n",
       "      <td>59</td>\n",
       "      <td>2</td>\n",
       "      <td>1</td>\n",
       "    </tr>\n",
       "    <tr>\n",
       "      <th>4</th>\n",
       "      <td>31</td>\n",
       "      <td>65</td>\n",
       "      <td>4</td>\n",
       "      <td>1</td>\n",
       "    </tr>\n",
       "  </tbody>\n",
       "</table>\n",
       "</div>"
      ],
      "text/plain": [
       "   age  operation_year  axil_nodes  status\n",
       "0   30              64           1       1\n",
       "1   30              62           3       1\n",
       "2   30              65           0       1\n",
       "3   31              59           2       1\n",
       "4   31              65           4       1"
      ]
     },
     "execution_count": 2,
     "metadata": {},
     "output_type": "execute_result"
    }
   ],
   "source": [
    "df=pd.read_csv('haberman.csv')\n",
    "df.head()"
   ]
  },
  {
   "cell_type": "code",
   "execution_count": 3,
   "id": "346d4f1c",
   "metadata": {},
   "outputs": [
    {
     "name": "stdout",
     "output_type": "stream",
     "text": [
      "Number of Rows: 306 \n",
      "Number of Columns: 4\n"
     ]
    }
   ],
   "source": [
    "# Number of rows and columns.\n",
    "print(\"Number of Rows:\",df.shape[0],\"\\nNumber of Columns:\",df.shape[1])\n"
   ]
  },
  {
   "cell_type": "markdown",
   "id": "421302ce",
   "metadata": {},
   "source": [
    "# Data Preparation"
   ]
  },
  {
   "cell_type": "code",
   "execution_count": 4,
   "id": "9ed1a9f3",
   "metadata": {},
   "outputs": [
    {
     "name": "stdout",
     "output_type": "stream",
     "text": [
      "<class 'pandas.core.frame.DataFrame'>\n",
      "RangeIndex: 306 entries, 0 to 305\n",
      "Data columns (total 4 columns):\n",
      " #   Column          Non-Null Count  Dtype\n",
      "---  ------          --------------  -----\n",
      " 0   age             306 non-null    int64\n",
      " 1   operation_year  306 non-null    int64\n",
      " 2   axil_nodes      306 non-null    int64\n",
      " 3   status          306 non-null    int64\n",
      "dtypes: int64(4)\n",
      "memory usage: 9.7 KB\n"
     ]
    }
   ],
   "source": [
    "df.info()"
   ]
  },
  {
   "cell_type": "raw",
   "id": "0f9c9769",
   "metadata": {},
   "source": [
    "Observations:\n",
    "    1. The dataset have no missings values. So, there is no need to data imputation.\n",
    "    2. The status column is in integer format, but it should be converted to a categorical data type."
   ]
  },
  {
   "cell_type": "code",
   "execution_count": 5,
   "id": "cca9e004",
   "metadata": {},
   "outputs": [
    {
     "data": {
      "text/plain": [
       "age               0\n",
       "operation_year    0\n",
       "axil_nodes        0\n",
       "status            0\n",
       "dtype: int64"
      ]
     },
     "execution_count": 5,
     "metadata": {},
     "output_type": "execute_result"
    }
   ],
   "source": [
    "# Checking of Missing Values\n",
    "df.isnull().sum() "
   ]
  },
  {
   "cell_type": "code",
   "execution_count": 6,
   "id": "03aeb053",
   "metadata": {},
   "outputs": [
    {
     "data": {
      "text/html": [
       "<div>\n",
       "<style scoped>\n",
       "    .dataframe tbody tr th:only-of-type {\n",
       "        vertical-align: middle;\n",
       "    }\n",
       "\n",
       "    .dataframe tbody tr th {\n",
       "        vertical-align: top;\n",
       "    }\n",
       "\n",
       "    .dataframe thead th {\n",
       "        text-align: right;\n",
       "    }\n",
       "</style>\n",
       "<table border=\"1\" class=\"dataframe\">\n",
       "  <thead>\n",
       "    <tr style=\"text-align: right;\">\n",
       "      <th></th>\n",
       "      <th>age</th>\n",
       "      <th>operation_year</th>\n",
       "      <th>axil_nodes</th>\n",
       "      <th>status</th>\n",
       "    </tr>\n",
       "  </thead>\n",
       "  <tbody>\n",
       "    <tr>\n",
       "      <th>count</th>\n",
       "      <td>306.0</td>\n",
       "      <td>306.0</td>\n",
       "      <td>306.0</td>\n",
       "      <td>306.0</td>\n",
       "    </tr>\n",
       "    <tr>\n",
       "      <th>mean</th>\n",
       "      <td>52.5</td>\n",
       "      <td>62.9</td>\n",
       "      <td>4.0</td>\n",
       "      <td>1.3</td>\n",
       "    </tr>\n",
       "    <tr>\n",
       "      <th>std</th>\n",
       "      <td>10.8</td>\n",
       "      <td>3.2</td>\n",
       "      <td>7.2</td>\n",
       "      <td>0.4</td>\n",
       "    </tr>\n",
       "    <tr>\n",
       "      <th>min</th>\n",
       "      <td>30.0</td>\n",
       "      <td>58.0</td>\n",
       "      <td>0.0</td>\n",
       "      <td>1.0</td>\n",
       "    </tr>\n",
       "    <tr>\n",
       "      <th>25%</th>\n",
       "      <td>44.0</td>\n",
       "      <td>60.0</td>\n",
       "      <td>0.0</td>\n",
       "      <td>1.0</td>\n",
       "    </tr>\n",
       "    <tr>\n",
       "      <th>50%</th>\n",
       "      <td>52.0</td>\n",
       "      <td>63.0</td>\n",
       "      <td>1.0</td>\n",
       "      <td>1.0</td>\n",
       "    </tr>\n",
       "    <tr>\n",
       "      <th>75%</th>\n",
       "      <td>60.8</td>\n",
       "      <td>65.8</td>\n",
       "      <td>4.0</td>\n",
       "      <td>2.0</td>\n",
       "    </tr>\n",
       "    <tr>\n",
       "      <th>max</th>\n",
       "      <td>83.0</td>\n",
       "      <td>69.0</td>\n",
       "      <td>52.0</td>\n",
       "      <td>2.0</td>\n",
       "    </tr>\n",
       "  </tbody>\n",
       "</table>\n",
       "</div>"
      ],
      "text/plain": [
       "         age  operation_year  axil_nodes  status\n",
       "count  306.0           306.0       306.0   306.0\n",
       "mean    52.5            62.9         4.0     1.3\n",
       "std     10.8             3.2         7.2     0.4\n",
       "min     30.0            58.0         0.0     1.0\n",
       "25%     44.0            60.0         0.0     1.0\n",
       "50%     52.0            63.0         1.0     1.0\n",
       "75%     60.8            65.8         4.0     2.0\n",
       "max     83.0            69.0        52.0     2.0"
      ]
     },
     "execution_count": 6,
     "metadata": {},
     "output_type": "execute_result"
    }
   ],
   "source": [
    "round(df.describe(),1)"
   ]
  },
  {
   "cell_type": "markdown",
   "id": "21051b01",
   "metadata": {},
   "source": [
    "1. The average age of the patients was about 52 years, with the majority being between 44 and 61 years old.\n",
    "2. The surgeries were performed between 1958 and 1969, with most taking place during the early to mid-1960s.\n",
    "3. The median is 1 in axil_nodes, suggesting that half of the patients had 1 or fewer positive nodes.\n",
    "4. 25th, 50th (Median) The values are 1, showing that the majority of patients survived. Only in the 75th percentile, the value 2, indicate that some patients did not survive.\n"
   ]
  },
  {
   "cell_type": "code",
   "execution_count": 7,
   "id": "15bd1414",
   "metadata": {},
   "outputs": [
    {
     "data": {
      "text/plain": [
       "status            1.00\n",
       "axil_nodes        0.29\n",
       "age               0.07\n",
       "operation_year   -0.00\n",
       "Name: status, dtype: float64"
      ]
     },
     "execution_count": 7,
     "metadata": {},
     "output_type": "execute_result"
    }
   ],
   "source": [
    "corr_matrix= df.corr()\n",
    "corr_matrix['status'].sort_values(ascending= False).round(2)"
   ]
  },
  {
   "cell_type": "code",
   "execution_count": 8,
   "id": "085c967f",
   "metadata": {},
   "outputs": [],
   "source": [
    "from pandas.plotting import scatter_matrix"
   ]
  },
  {
   "cell_type": "code",
   "execution_count": 9,
   "id": "0ffc626e",
   "metadata": {},
   "outputs": [
    {
     "data": {
      "text/plain": [
       "array([[<Axes: xlabel='age', ylabel='age'>,\n",
       "        <Axes: xlabel='operation_year', ylabel='age'>,\n",
       "        <Axes: xlabel='axil_nodes', ylabel='age'>,\n",
       "        <Axes: xlabel='status', ylabel='age'>],\n",
       "       [<Axes: xlabel='age', ylabel='operation_year'>,\n",
       "        <Axes: xlabel='operation_year', ylabel='operation_year'>,\n",
       "        <Axes: xlabel='axil_nodes', ylabel='operation_year'>,\n",
       "        <Axes: xlabel='status', ylabel='operation_year'>],\n",
       "       [<Axes: xlabel='age', ylabel='axil_nodes'>,\n",
       "        <Axes: xlabel='operation_year', ylabel='axil_nodes'>,\n",
       "        <Axes: xlabel='axil_nodes', ylabel='axil_nodes'>,\n",
       "        <Axes: xlabel='status', ylabel='axil_nodes'>],\n",
       "       [<Axes: xlabel='age', ylabel='status'>,\n",
       "        <Axes: xlabel='operation_year', ylabel='status'>,\n",
       "        <Axes: xlabel='axil_nodes', ylabel='status'>,\n",
       "        <Axes: xlabel='status', ylabel='status'>]], dtype=object)"
      ]
     },
     "execution_count": 9,
     "metadata": {},
     "output_type": "execute_result"
    },
    {
     "data": {
      "image/png": "[encoded data removed]",
      "text/plain": [
       "<Figure size 1200x800 with 16 Axes>"
      ]
     },
     "metadata": {},
     "output_type": "display_data"
    }
   ],
   "source": [
    "fields = [\"age\", \"operation_year\", \"axil_nodes\", \"status\"]\n",
    "\n",
    "scatter_matrix(df[fields], figsize=(12,8))"
   ]
  },
  {
   "cell_type": "code",
   "execution_count": 10,
   "id": "1a70d804",
   "metadata": {},
   "outputs": [
    {
     "data": {
      "text/plain": [
       "<Axes: xlabel='status', ylabel='axil_nodes'>"
      ]
     },
     "execution_count": 10,
     "metadata": {},
     "output_type": "execute_result"
    },
    {
     "data": {
      "image/png": "[encoded data removed]",
      "text/plain": [
       "<Figure size 640x480 with 1 Axes>"
      ]
     },
     "metadata": {},
     "output_type": "display_data"
    }
   ],
   "source": [
    "df.plot(kind = \"scatter\", x=\"status\", y= \"axil_nodes\", alpha= 0.1)"
   ]
  },
  {
   "cell_type": "code",
   "execution_count": 11,
   "id": "12af2f00",
   "metadata": {},
   "outputs": [
    {
     "name": "stdout",
     "output_type": "stream",
     "text": [
      "count    306.000000\n",
      "mean       4.026144\n",
      "std        7.189654\n",
      "min        0.000000\n",
      "25%        0.000000\n",
      "50%        1.000000\n",
      "75%        4.000000\n",
      "max       52.000000\n",
      "Name: axil_nodes, dtype: float64\n"
     ]
    },
    {
     "data": {
      "image/png": "[encoded data removed]",
      "text/plain": [
       "<Figure size 640x480 with 1 Axes>"
      ]
     },
     "metadata": {},
     "output_type": "display_data"
    }
   ],
   "source": [
    "print(df['axil_nodes'].describe())\n",
    "sns.boxplot(x=df['axil_nodes'])\n",
    "plt.show()"
   ]
  },
  {
   "cell_type": "markdown",
   "id": "6c9d5dd0",
   "metadata": {},
   "source": [
    "# Analysing the target field"
   ]
  },
  {
   "cell_type": "code",
   "execution_count": 12,
   "id": "5c611e7a",
   "metadata": {},
   "outputs": [
    {
     "data": {
      "text/plain": [
       "status\n",
       "1    0.735\n",
       "2    0.265\n",
       "Name: proportion, dtype: float64"
      ]
     },
     "execution_count": 12,
     "metadata": {},
     "output_type": "execute_result"
    }
   ],
   "source": [
    "round(df.status.value_counts(normalize=True),3)"
   ]
  },
  {
   "cell_type": "markdown",
   "id": "f79d6713",
   "metadata": {},
   "source": [
    "In this Dataset, 73.5% of patients survived while 26.5% did not survive. It is important to note that the Dataset is imbalanced, which may affect the results. I will do this in the next part"
   ]
  },
  {
   "cell_type": "markdown",
   "id": "8c18ee4f",
   "metadata": {},
   "source": [
    "# Axillary_nodes vs Status"
   ]
  },
  {
   "cell_type": "markdown",
   "id": "b4c1d901",
   "metadata": {},
   "source": [
    "### Determine the number of survivors and non-survivors with three axillary nodes involved."
   ]
  },
  {
   "cell_type": "code",
   "execution_count": 13,
   "id": "62a9d142",
   "metadata": {},
   "outputs": [
    {
     "data": {
      "text/plain": [
       "status\n",
       "1    13\n",
       "2     7\n",
       "Name: count, dtype: int64"
      ]
     },
     "execution_count": 13,
     "metadata": {},
     "output_type": "execute_result"
    }
   ],
   "source": [
    "'''\n",
    "axil_nodes3 = df[df.axil_nodes == 3]\n",
    "count_survivors = axil_nodes3[axil_nodes3.status == 1].shape[0]\n",
    "count_non_survivors = axil_nodes3[axil_nodes3.status == 2].shape[0] \n",
    "'''\n",
    "\n",
    "axil_nodes3 = df[df.axil_nodes ==3].status.value_counts()\n",
    "axil_nodes3"
   ]
  },
  {
   "cell_type": "code",
   "execution_count": 14,
   "id": "e9cb02f0",
   "metadata": {},
   "outputs": [
    {
     "data": {
      "text/html": [
       "<div>\n",
       "<style scoped>\n",
       "    .dataframe tbody tr th:only-of-type {\n",
       "        vertical-align: middle;\n",
       "    }\n",
       "\n",
       "    .dataframe tbody tr th {\n",
       "        vertical-align: top;\n",
       "    }\n",
       "\n",
       "    .dataframe thead th {\n",
       "        text-align: right;\n",
       "    }\n",
       "</style>\n",
       "<table border=\"1\" class=\"dataframe\">\n",
       "  <thead>\n",
       "    <tr style=\"text-align: right;\">\n",
       "      <th>status</th>\n",
       "      <th>1</th>\n",
       "      <th>2</th>\n",
       "    </tr>\n",
       "    <tr>\n",
       "      <th>axil_nodes</th>\n",
       "      <th></th>\n",
       "      <th></th>\n",
       "    </tr>\n",
       "  </thead>\n",
       "  <tbody>\n",
       "    <tr>\n",
       "      <th>0</th>\n",
       "      <td>117</td>\n",
       "      <td>19</td>\n",
       "    </tr>\n",
       "    <tr>\n",
       "      <th>1</th>\n",
       "      <td>33</td>\n",
       "      <td>8</td>\n",
       "    </tr>\n",
       "    <tr>\n",
       "      <th>2</th>\n",
       "      <td>15</td>\n",
       "      <td>5</td>\n",
       "    </tr>\n",
       "    <tr>\n",
       "      <th>3</th>\n",
       "      <td>13</td>\n",
       "      <td>7</td>\n",
       "    </tr>\n",
       "    <tr>\n",
       "      <th>4</th>\n",
       "      <td>10</td>\n",
       "      <td>3</td>\n",
       "    </tr>\n",
       "    <tr>\n",
       "      <th>5</th>\n",
       "      <td>2</td>\n",
       "      <td>4</td>\n",
       "    </tr>\n",
       "    <tr>\n",
       "      <th>6</th>\n",
       "      <td>4</td>\n",
       "      <td>3</td>\n",
       "    </tr>\n",
       "    <tr>\n",
       "      <th>7</th>\n",
       "      <td>5</td>\n",
       "      <td>2</td>\n",
       "    </tr>\n",
       "    <tr>\n",
       "      <th>8</th>\n",
       "      <td>5</td>\n",
       "      <td>2</td>\n",
       "    </tr>\n",
       "    <tr>\n",
       "      <th>9</th>\n",
       "      <td>2</td>\n",
       "      <td>4</td>\n",
       "    </tr>\n",
       "    <tr>\n",
       "      <th>10</th>\n",
       "      <td>2</td>\n",
       "      <td>1</td>\n",
       "    </tr>\n",
       "    <tr>\n",
       "      <th>11</th>\n",
       "      <td>1</td>\n",
       "      <td>3</td>\n",
       "    </tr>\n",
       "    <tr>\n",
       "      <th>12</th>\n",
       "      <td>1</td>\n",
       "      <td>1</td>\n",
       "    </tr>\n",
       "    <tr>\n",
       "      <th>13</th>\n",
       "      <td>1</td>\n",
       "      <td>4</td>\n",
       "    </tr>\n",
       "    <tr>\n",
       "      <th>14</th>\n",
       "      <td>3</td>\n",
       "      <td>1</td>\n",
       "    </tr>\n",
       "    <tr>\n",
       "      <th>15</th>\n",
       "      <td>1</td>\n",
       "      <td>2</td>\n",
       "    </tr>\n",
       "    <tr>\n",
       "      <th>16</th>\n",
       "      <td>1</td>\n",
       "      <td>0</td>\n",
       "    </tr>\n",
       "    <tr>\n",
       "      <th>17</th>\n",
       "      <td>0</td>\n",
       "      <td>1</td>\n",
       "    </tr>\n",
       "    <tr>\n",
       "      <th>18</th>\n",
       "      <td>1</td>\n",
       "      <td>0</td>\n",
       "    </tr>\n",
       "    <tr>\n",
       "      <th>19</th>\n",
       "      <td>1</td>\n",
       "      <td>2</td>\n",
       "    </tr>\n",
       "    <tr>\n",
       "      <th>20</th>\n",
       "      <td>1</td>\n",
       "      <td>1</td>\n",
       "    </tr>\n",
       "    <tr>\n",
       "      <th>21</th>\n",
       "      <td>0</td>\n",
       "      <td>1</td>\n",
       "    </tr>\n",
       "    <tr>\n",
       "      <th>22</th>\n",
       "      <td>2</td>\n",
       "      <td>1</td>\n",
       "    </tr>\n",
       "    <tr>\n",
       "      <th>23</th>\n",
       "      <td>0</td>\n",
       "      <td>3</td>\n",
       "    </tr>\n",
       "    <tr>\n",
       "      <th>24</th>\n",
       "      <td>0</td>\n",
       "      <td>1</td>\n",
       "    </tr>\n",
       "    <tr>\n",
       "      <th>25</th>\n",
       "      <td>1</td>\n",
       "      <td>0</td>\n",
       "    </tr>\n",
       "    <tr>\n",
       "      <th>28</th>\n",
       "      <td>1</td>\n",
       "      <td>0</td>\n",
       "    </tr>\n",
       "    <tr>\n",
       "      <th>30</th>\n",
       "      <td>1</td>\n",
       "      <td>0</td>\n",
       "    </tr>\n",
       "    <tr>\n",
       "      <th>35</th>\n",
       "      <td>0</td>\n",
       "      <td>1</td>\n",
       "    </tr>\n",
       "    <tr>\n",
       "      <th>46</th>\n",
       "      <td>1</td>\n",
       "      <td>0</td>\n",
       "    </tr>\n",
       "    <tr>\n",
       "      <th>52</th>\n",
       "      <td>0</td>\n",
       "      <td>1</td>\n",
       "    </tr>\n",
       "  </tbody>\n",
       "</table>\n",
       "</div>"
      ],
      "text/plain": [
       "status        1   2\n",
       "axil_nodes         \n",
       "0           117  19\n",
       "1            33   8\n",
       "2            15   5\n",
       "3            13   7\n",
       "4            10   3\n",
       "5             2   4\n",
       "6             4   3\n",
       "7             5   2\n",
       "8             5   2\n",
       "9             2   4\n",
       "10            2   1\n",
       "11            1   3\n",
       "12            1   1\n",
       "13            1   4\n",
       "14            3   1\n",
       "15            1   2\n",
       "16            1   0\n",
       "17            0   1\n",
       "18            1   0\n",
       "19            1   2\n",
       "20            1   1\n",
       "21            0   1\n",
       "22            2   1\n",
       "23            0   3\n",
       "24            0   1\n",
       "25            1   0\n",
       "28            1   0\n",
       "30            1   0\n",
       "35            0   1\n",
       "46            1   0\n",
       "52            0   1"
      ]
     },
     "execution_count": 14,
     "metadata": {},
     "output_type": "execute_result"
    }
   ],
   "source": [
    "status_axil_nodes_counts = df.groupby(['axil_nodes', 'status']).size().unstack(fill_value=0)\n",
    "\n",
    "status_axil_nodes_counts"
   ]
  },
  {
   "cell_type": "markdown",
   "id": "c196220b",
   "metadata": {},
   "source": [
    "Based on the chart, patients with 16, 18, 25, 28, 30, and 46 axillary nodes survived 100%, \n",
    "while patients with 17, 21, 23, 24, 35, and 52 axillary nodes did not survive at all."
   ]
  },
  {
   "cell_type": "markdown",
   "id": "225f1c87",
   "metadata": {},
   "source": [
    "# How many patients have fewer than or exactly 6 lymph nodes?"
   ]
  },
  {
   "cell_type": "code",
   "execution_count": 15,
   "id": "d3d6a0be",
   "metadata": {},
   "outputs": [
    {
     "name": "stdout",
     "output_type": "stream",
     "text": [
      "Number of patients with fewer than or exactly 6 lymph nodes: 243 Patients.\n",
      "\n",
      "Percentage of patients with 6 or fewer lymph nodes: 79.41%\n"
     ]
    }
   ],
   "source": [
    "count = sum(x <= 6 for x in df['axil_nodes'])\n",
    "\n",
    "print(f\"Number of patients with fewer than or exactly 6 lymph nodes: {count} Patients.\\n\")\n",
    "\n",
    "percentage = (count / len(df['axil_nodes'])) * 100\n",
    "\n",
    "print(f\"Percentage of patients with 6 or fewer lymph nodes: {percentage:.2f}%\")\n"
   ]
  },
  {
   "cell_type": "markdown",
   "id": "64c406af",
   "metadata": {},
   "source": [
    "## What number of axillary nodes corresponds to the highest number of survivors"
   ]
  },
  {
   "cell_type": "code",
   "execution_count": 16,
   "id": "a3d340eb",
   "metadata": {},
   "outputs": [
    {
     "name": "stdout",
     "output_type": "stream",
     "text": [
      "The axil_nodes values with the highest number of survivors are [0] with 117 survivors each.\n"
     ]
    }
   ],
   "source": [
    "max_survivor = df[df['status'] == 1]['axil_nodes'].value_counts()\n",
    "\n",
    "max_survivors_count = max_survivor.max()\n",
    "\n",
    "\n",
    "max_survivors_axil_nodes = max_survivor[max_survivor == max_survivors_count].index.tolist()\n",
    "\n",
    "print(f\"The axil_nodes values with the highest number of survivors are {max_survivors_axil_nodes} with {max_survivors_count} survivors each.\")\n"
   ]
  },
  {
   "cell_type": "markdown",
   "id": "c40e153f",
   "metadata": {},
   "source": [
    "## To determine the maximum number of non-survivors, how many axil nodes are needed?"
   ]
  },
  {
   "cell_type": "code",
   "execution_count": 17,
   "id": "ae9e2922",
   "metadata": {},
   "outputs": [
    {
     "name": "stdout",
     "output_type": "stream",
     "text": [
      "The axil_nodes value with the highest number of non survivors is 0 with 19.\n"
     ]
    }
   ],
   "source": [
    "max_non_survivor = df[df['status']==2]['axil_nodes'].value_counts().sort_values(ascending=False)\n",
    "\n",
    "max_non_survivors_axil_node = max_non_survivor.index[0]\n",
    "max_non_survivors_count = max_non_survivor[max_non_survivors_axil_node]\n",
    "\n",
    "print(f\"The axil_nodes value with the highest number of non survivors is {(max_non_survivors_axil_node)} with {max_non_survivors_count}.\")"
   ]
  },
  {
   "cell_type": "markdown",
   "id": "7ead70a3",
   "metadata": {},
   "source": [
    "# Age VS Status"
   ]
  },
  {
   "cell_type": "code",
   "execution_count": 18,
   "id": "499e900e",
   "metadata": {},
   "outputs": [
    {
     "data": {
      "text/html": [
       "<div>\n",
       "<style scoped>\n",
       "    .dataframe tbody tr th:only-of-type {\n",
       "        vertical-align: middle;\n",
       "    }\n",
       "\n",
       "    .dataframe tbody tr th {\n",
       "        vertical-align: top;\n",
       "    }\n",
       "\n",
       "    .dataframe thead th {\n",
       "        text-align: right;\n",
       "    }\n",
       "</style>\n",
       "<table border=\"1\" class=\"dataframe\">\n",
       "  <thead>\n",
       "    <tr style=\"text-align: right;\">\n",
       "      <th>status</th>\n",
       "      <th>1</th>\n",
       "      <th>2</th>\n",
       "    </tr>\n",
       "    <tr>\n",
       "      <th>age</th>\n",
       "      <th></th>\n",
       "      <th></th>\n",
       "    </tr>\n",
       "  </thead>\n",
       "  <tbody>\n",
       "    <tr>\n",
       "      <th>30</th>\n",
       "      <td>3</td>\n",
       "      <td>0</td>\n",
       "    </tr>\n",
       "    <tr>\n",
       "      <th>31</th>\n",
       "      <td>2</td>\n",
       "      <td>0</td>\n",
       "    </tr>\n",
       "    <tr>\n",
       "      <th>33</th>\n",
       "      <td>2</td>\n",
       "      <td>0</td>\n",
       "    </tr>\n",
       "    <tr>\n",
       "      <th>34</th>\n",
       "      <td>5</td>\n",
       "      <td>2</td>\n",
       "    </tr>\n",
       "    <tr>\n",
       "      <th>35</th>\n",
       "      <td>2</td>\n",
       "      <td>0</td>\n",
       "    </tr>\n",
       "    <tr>\n",
       "      <th>36</th>\n",
       "      <td>2</td>\n",
       "      <td>0</td>\n",
       "    </tr>\n",
       "    <tr>\n",
       "      <th>37</th>\n",
       "      <td>6</td>\n",
       "      <td>0</td>\n",
       "    </tr>\n",
       "    <tr>\n",
       "      <th>38</th>\n",
       "      <td>9</td>\n",
       "      <td>1</td>\n",
       "    </tr>\n",
       "    <tr>\n",
       "      <th>39</th>\n",
       "      <td>5</td>\n",
       "      <td>1</td>\n",
       "    </tr>\n",
       "    <tr>\n",
       "      <th>40</th>\n",
       "      <td>3</td>\n",
       "      <td>0</td>\n",
       "    </tr>\n",
       "    <tr>\n",
       "      <th>41</th>\n",
       "      <td>7</td>\n",
       "      <td>3</td>\n",
       "    </tr>\n",
       "    <tr>\n",
       "      <th>42</th>\n",
       "      <td>7</td>\n",
       "      <td>2</td>\n",
       "    </tr>\n",
       "    <tr>\n",
       "      <th>43</th>\n",
       "      <td>7</td>\n",
       "      <td>4</td>\n",
       "    </tr>\n",
       "    <tr>\n",
       "      <th>44</th>\n",
       "      <td>4</td>\n",
       "      <td>3</td>\n",
       "    </tr>\n",
       "    <tr>\n",
       "      <th>45</th>\n",
       "      <td>6</td>\n",
       "      <td>3</td>\n",
       "    </tr>\n",
       "    <tr>\n",
       "      <th>46</th>\n",
       "      <td>3</td>\n",
       "      <td>4</td>\n",
       "    </tr>\n",
       "    <tr>\n",
       "      <th>47</th>\n",
       "      <td>8</td>\n",
       "      <td>3</td>\n",
       "    </tr>\n",
       "    <tr>\n",
       "      <th>48</th>\n",
       "      <td>4</td>\n",
       "      <td>3</td>\n",
       "    </tr>\n",
       "    <tr>\n",
       "      <th>49</th>\n",
       "      <td>8</td>\n",
       "      <td>2</td>\n",
       "    </tr>\n",
       "    <tr>\n",
       "      <th>50</th>\n",
       "      <td>10</td>\n",
       "      <td>2</td>\n",
       "    </tr>\n",
       "    <tr>\n",
       "      <th>51</th>\n",
       "      <td>4</td>\n",
       "      <td>2</td>\n",
       "    </tr>\n",
       "    <tr>\n",
       "      <th>52</th>\n",
       "      <td>10</td>\n",
       "      <td>4</td>\n",
       "    </tr>\n",
       "    <tr>\n",
       "      <th>53</th>\n",
       "      <td>5</td>\n",
       "      <td>6</td>\n",
       "    </tr>\n",
       "    <tr>\n",
       "      <th>54</th>\n",
       "      <td>9</td>\n",
       "      <td>4</td>\n",
       "    </tr>\n",
       "    <tr>\n",
       "      <th>55</th>\n",
       "      <td>8</td>\n",
       "      <td>2</td>\n",
       "    </tr>\n",
       "    <tr>\n",
       "      <th>56</th>\n",
       "      <td>5</td>\n",
       "      <td>2</td>\n",
       "    </tr>\n",
       "    <tr>\n",
       "      <th>57</th>\n",
       "      <td>8</td>\n",
       "      <td>3</td>\n",
       "    </tr>\n",
       "    <tr>\n",
       "      <th>58</th>\n",
       "      <td>7</td>\n",
       "      <td>0</td>\n",
       "    </tr>\n",
       "    <tr>\n",
       "      <th>59</th>\n",
       "      <td>7</td>\n",
       "      <td>1</td>\n",
       "    </tr>\n",
       "    <tr>\n",
       "      <th>60</th>\n",
       "      <td>4</td>\n",
       "      <td>2</td>\n",
       "    </tr>\n",
       "    <tr>\n",
       "      <th>61</th>\n",
       "      <td>6</td>\n",
       "      <td>3</td>\n",
       "    </tr>\n",
       "    <tr>\n",
       "      <th>62</th>\n",
       "      <td>4</td>\n",
       "      <td>3</td>\n",
       "    </tr>\n",
       "    <tr>\n",
       "      <th>63</th>\n",
       "      <td>7</td>\n",
       "      <td>1</td>\n",
       "    </tr>\n",
       "    <tr>\n",
       "      <th>64</th>\n",
       "      <td>5</td>\n",
       "      <td>0</td>\n",
       "    </tr>\n",
       "    <tr>\n",
       "      <th>65</th>\n",
       "      <td>6</td>\n",
       "      <td>4</td>\n",
       "    </tr>\n",
       "    <tr>\n",
       "      <th>66</th>\n",
       "      <td>3</td>\n",
       "      <td>2</td>\n",
       "    </tr>\n",
       "    <tr>\n",
       "      <th>67</th>\n",
       "      <td>4</td>\n",
       "      <td>2</td>\n",
       "    </tr>\n",
       "    <tr>\n",
       "      <th>68</th>\n",
       "      <td>2</td>\n",
       "      <td>0</td>\n",
       "    </tr>\n",
       "    <tr>\n",
       "      <th>69</th>\n",
       "      <td>3</td>\n",
       "      <td>1</td>\n",
       "    </tr>\n",
       "    <tr>\n",
       "      <th>70</th>\n",
       "      <td>5</td>\n",
       "      <td>2</td>\n",
       "    </tr>\n",
       "    <tr>\n",
       "      <th>71</th>\n",
       "      <td>1</td>\n",
       "      <td>0</td>\n",
       "    </tr>\n",
       "    <tr>\n",
       "      <th>72</th>\n",
       "      <td>3</td>\n",
       "      <td>1</td>\n",
       "    </tr>\n",
       "    <tr>\n",
       "      <th>73</th>\n",
       "      <td>2</td>\n",
       "      <td>0</td>\n",
       "    </tr>\n",
       "    <tr>\n",
       "      <th>74</th>\n",
       "      <td>1</td>\n",
       "      <td>1</td>\n",
       "    </tr>\n",
       "    <tr>\n",
       "      <th>75</th>\n",
       "      <td>1</td>\n",
       "      <td>0</td>\n",
       "    </tr>\n",
       "    <tr>\n",
       "      <th>76</th>\n",
       "      <td>1</td>\n",
       "      <td>0</td>\n",
       "    </tr>\n",
       "    <tr>\n",
       "      <th>77</th>\n",
       "      <td>1</td>\n",
       "      <td>0</td>\n",
       "    </tr>\n",
       "    <tr>\n",
       "      <th>78</th>\n",
       "      <td>0</td>\n",
       "      <td>1</td>\n",
       "    </tr>\n",
       "    <tr>\n",
       "      <th>83</th>\n",
       "      <td>0</td>\n",
       "      <td>1</td>\n",
       "    </tr>\n",
       "  </tbody>\n",
       "</table>\n",
       "</div>"
      ],
      "text/plain": [
       "status   1  2\n",
       "age          \n",
       "30       3  0\n",
       "31       2  0\n",
       "33       2  0\n",
       "34       5  2\n",
       "35       2  0\n",
       "36       2  0\n",
       "37       6  0\n",
       "38       9  1\n",
       "39       5  1\n",
       "40       3  0\n",
       "41       7  3\n",
       "42       7  2\n",
       "43       7  4\n",
       "44       4  3\n",
       "45       6  3\n",
       "46       3  4\n",
       "47       8  3\n",
       "48       4  3\n",
       "49       8  2\n",
       "50      10  2\n",
       "51       4  2\n",
       "52      10  4\n",
       "53       5  6\n",
       "54       9  4\n",
       "55       8  2\n",
       "56       5  2\n",
       "57       8  3\n",
       "58       7  0\n",
       "59       7  1\n",
       "60       4  2\n",
       "61       6  3\n",
       "62       4  3\n",
       "63       7  1\n",
       "64       5  0\n",
       "65       6  4\n",
       "66       3  2\n",
       "67       4  2\n",
       "68       2  0\n",
       "69       3  1\n",
       "70       5  2\n",
       "71       1  0\n",
       "72       3  1\n",
       "73       2  0\n",
       "74       1  1\n",
       "75       1  0\n",
       "76       1  0\n",
       "77       1  0\n",
       "78       0  1\n",
       "83       0  1"
      ]
     },
     "execution_count": 18,
     "metadata": {},
     "output_type": "execute_result"
    }
   ],
   "source": [
    "status_age_counts = df.groupby(['age', 'status']).size().unstack(fill_value=0)\n",
    "\n",
    "status_age_counts"
   ]
  },
  {
   "cell_type": "markdown",
   "id": "945bb14d",
   "metadata": {},
   "source": [
    "## At what ages were the most people alive?"
   ]
  },
  {
   "cell_type": "code",
   "execution_count": 19,
   "id": "4a948ccc",
   "metadata": {},
   "outputs": [
    {
     "name": "stdout",
     "output_type": "stream",
     "text": [
      "The age with the highest number of survivors is/are [50, 52] with 10 survivors each.\n"
     ]
    }
   ],
   "source": [
    "\n",
    "age_survivor_counts = df[df['status'] == 1].groupby('age').size()\n",
    "\n",
    "max_survivors_count = age_survivor_counts.max()\n",
    "max_survivor_ages = age_survivor_counts[age_survivor_counts == max_survivors_count]\n",
    "\n",
    "print(f\"The age with the highest number of survivors is/are {list(max_survivor_ages.index)} with {max_survivors_count} survivors each.\")"
   ]
  },
  {
   "cell_type": "markdown",
   "id": "42ee4d43",
   "metadata": {},
   "source": [
    "# At what ages were not the most people alive?"
   ]
  },
  {
   "cell_type": "code",
   "execution_count": 20,
   "id": "91676a99",
   "metadata": {},
   "outputs": [
    {
     "name": "stdout",
     "output_type": "stream",
     "text": [
      "The age with the highest number of survivors is/are [53] with 6.\n"
     ]
    }
   ],
   "source": [
    "age_non_survivor_counts = df[df['status'] == 2].groupby('age').size()\n",
    "\n",
    "\n",
    "max_non_survivors_count = age_non_survivor_counts.max()\n",
    "max_non_survivor_ages = age_non_survivor_counts[age_non_survivor_counts == max_non_survivors_count]\n",
    "\n",
    "\n",
    "print(f\"The age with the highest number of survivors is/are {list(max_non_survivor_ages.index)} with {max_non_survivors_count}.\")"
   ]
  },
  {
   "cell_type": "markdown",
   "id": "d21a47d7",
   "metadata": {},
   "source": [
    "# For each age, what percentage survived and what percentage did not?"
   ]
  },
  {
   "cell_type": "code",
   "execution_count": 21,
   "id": "f110a321",
   "metadata": {},
   "outputs": [
    {
     "name": "stdout",
     "output_type": "stream",
     "text": [
      "status      1      2\n",
      "age                 \n",
      "30      100.0    0.0\n",
      "31      100.0    0.0\n",
      "33      100.0    0.0\n",
      "34       71.4   28.6\n",
      "35      100.0    0.0\n",
      "36      100.0    0.0\n",
      "37      100.0    0.0\n",
      "38       90.0   10.0\n",
      "39       83.3   16.7\n",
      "40      100.0    0.0\n",
      "41       70.0   30.0\n",
      "42       77.8   22.2\n",
      "43       63.6   36.4\n",
      "44       57.1   42.9\n",
      "45       66.7   33.3\n",
      "46       42.9   57.1\n",
      "47       72.7   27.3\n",
      "48       57.1   42.9\n",
      "49       80.0   20.0\n",
      "50       83.3   16.7\n",
      "51       66.7   33.3\n",
      "52       71.4   28.6\n",
      "53       45.5   54.5\n",
      "54       69.2   30.8\n",
      "55       80.0   20.0\n",
      "56       71.4   28.6\n",
      "57       72.7   27.3\n",
      "58      100.0    0.0\n",
      "59       87.5   12.5\n",
      "60       66.7   33.3\n",
      "61       66.7   33.3\n",
      "62       57.1   42.9\n",
      "63       87.5   12.5\n",
      "64      100.0    0.0\n",
      "65       60.0   40.0\n",
      "66       60.0   40.0\n",
      "67       66.7   33.3\n",
      "68      100.0    0.0\n",
      "69       75.0   25.0\n",
      "70       71.4   28.6\n",
      "71      100.0    0.0\n",
      "72       75.0   25.0\n",
      "73      100.0    0.0\n",
      "74       50.0   50.0\n",
      "75      100.0    0.0\n",
      "76      100.0    0.0\n",
      "77      100.0    0.0\n",
      "78        0.0  100.0\n",
      "83        0.0  100.0\n"
     ]
    }
   ],
   "source": [
    "status_age_counts = df.groupby(['age', 'status']).size().unstack(fill_value=0)\n",
    "\n",
    "status_age_percentages = status_age_counts.apply(lambda x: x / x.sum() * 100, axis=1)\n",
    "\n",
    "print(status_age_percentages.round(1))"
   ]
  },
  {
   "cell_type": "markdown",
   "id": "e2f20846",
   "metadata": {},
   "source": [
    "# At what ages were people 100% alive?"
   ]
  },
  {
   "cell_type": "code",
   "execution_count": 22,
   "id": "d8bd2ef0",
   "metadata": {},
   "outputs": [
    {
     "name": "stdout",
     "output_type": "stream",
     "text": [
      "The age(s) with the highest percentage of survivors is/are [30, 31, 33, 35, 36, 37, 40, 58, 64, 68, 71, 73, 75, 76, 77] with   100.00% survivors each.\n"
     ]
    }
   ],
   "source": [
    "#age_total_counts = df.groupby('age').size()\n",
    "\n",
    "age_total_counts = df['age'].value_counts()\n",
    "\n",
    "\n",
    "age_survivor_counts = df[df['status'] == 1].groupby('age').size()\n",
    "\n",
    "age_survivor_percentages = (age_survivor_counts / age_total_counts) * 100\n",
    "\n",
    "\n",
    "max_survivor_percentage = age_survivor_percentages.max()\n",
    "max_survivor_ages = age_survivor_percentages[age_survivor_percentages == max_survivor_percentage]\n",
    "\n",
    "\n",
    "print(f\"The age(s) with the highest percentage of survivors is/are {list(max_survivor_ages.index)} with   {max_survivor_percentage:.2f}% survivors each.\")"
   ]
  },
  {
   "cell_type": "markdown",
   "id": "364bda65",
   "metadata": {},
   "source": [
    "# At which ages did everyone pass away?"
   ]
  },
  {
   "cell_type": "code",
   "execution_count": 23,
   "id": "e51d47a1",
   "metadata": {},
   "outputs": [
    {
     "name": "stdout",
     "output_type": "stream",
     "text": [
      "The age with the highest percentage of non-survivors is/are [78, 83] with a 100.00% mortality rate.\n"
     ]
    }
   ],
   "source": [
    "#age_total_counts = df['age'].value_counts()\n",
    "age_total_counts = df.groupby('age').size().sort_values(ascending=False)\n",
    "\n",
    "\n",
    "age_non_survivors_counts = df[df['status'] == 2].groupby('age').size()\n",
    "\n",
    "\n",
    "age_non_survivors_percentages = (age_non_survivors_counts / age_total_counts) * 100\n",
    "\n",
    "\n",
    "max_non_survivors_percentage = age_non_survivors_percentages.max()\n",
    "max_non_survivors_ages = age_non_survivors_percentages[age_non_survivors_percentages == max_non_survivors_percentage]\n",
    "\n",
    "\n",
    "print(f\"The age with the highest percentage of non-survivors is/are {list(max_non_survivors_ages.index)} with a {max_non_survivors_percentage:.2f}% mortality rate.\")\n"
   ]
  },
  {
   "cell_type": "markdown",
   "id": "8ccc651d",
   "metadata": {},
   "source": [
    "# Operation Year VS Status"
   ]
  },
  {
   "cell_type": "code",
   "execution_count": 24,
   "id": "d52385e6",
   "metadata": {},
   "outputs": [
    {
     "data": {
      "text/plain": [
       "operation_year\n",
       "58    36\n",
       "64    31\n",
       "63    30\n",
       "65    28\n",
       "60    28\n",
       "66    28\n",
       "59    27\n",
       "61    26\n",
       "67    25\n",
       "62    23\n",
       "68    13\n",
       "69    11\n",
       "Name: count, dtype: int64"
      ]
     },
     "execution_count": 24,
     "metadata": {},
     "output_type": "execute_result"
    }
   ],
   "source": [
    "df.operation_year.value_counts()"
   ]
  },
  {
   "cell_type": "markdown",
   "id": "48dcc5f4",
   "metadata": {},
   "source": [
    "### Which unique age values exhibit 100% survival and 100% non-survival across all combinations of operation_year and axil_nodes?"
   ]
  },
  {
   "cell_type": "code",
   "execution_count": 25,
   "id": "22b4ae3d",
   "metadata": {},
   "outputs": [
    {
     "name": "stdout",
     "output_type": "stream",
     "text": [
      "status                             1      2\n",
      "age operation_year axil_nodes              \n",
      "30  62             3           100.0    0.0\n",
      "    64             1           100.0    0.0\n",
      "    65             0           100.0    0.0\n",
      "31  59             2           100.0    0.0\n",
      "    65             4           100.0    0.0\n",
      "...                              ...    ...\n",
      "75  62             1           100.0    0.0\n",
      "76  67             0           100.0    0.0\n",
      "77  65             3           100.0    0.0\n",
      "78  65             1             0.0  100.0\n",
      "83  58             2             0.0  100.0\n",
      "\n",
      "[283 rows x 2 columns] 2\n"
     ]
    }
   ],
   "source": [
    "\n",
    "status_counts = df.groupby(['age', 'operation_year', 'axil_nodes', 'status']).size().unstack(fill_value=0)\n",
    "\n",
    "status_percentages = status_counts.apply(lambda x: x / x.sum() * 100, axis=1)\n",
    "\n",
    "\n",
    "print(round(status_percentages),2)\n"
   ]
  },
  {
   "cell_type": "code",
   "execution_count": 26,
   "id": "a674f41d",
   "metadata": {},
   "outputs": [
    {
     "name": "stdout",
     "output_type": "stream",
     "text": [
      "count    306.000000\n",
      "mean       4.026144\n",
      "std        7.189654\n",
      "min        0.000000\n",
      "25%        0.000000\n",
      "50%        1.000000\n",
      "75%        4.000000\n",
      "max       52.000000\n",
      "Name: axil_nodes, dtype: float64\n"
     ]
    },
    {
     "data": {
      "image/png": "[encoded data removed]",
      "text/plain": [
       "<Figure size 640x480 with 1 Axes>"
      ]
     },
     "metadata": {},
     "output_type": "display_data"
    }
   ],
   "source": [
    "print(df['axil_nodes'].describe())\n",
    "sns.boxplot(x=df['axil_nodes'])\n",
    "plt.show()"
   ]
  },
  {
   "cell_type": "code",
   "execution_count": null,
   "id": "972c3f62",
   "metadata": {},
   "outputs": [],
   "source": []
  }
 ],
 "metadata": {
  "kernelspec": {
   "display_name": "Python 3 (ipykernel)",
   "language": "python",
   "name": "python3"
  },
  "language_info": {
   "codemirror_mode": {
    "name": "ipython",
    "version": 3
   },
   "file_extension": ".py",
   "mimetype": "text/x-python",
   "name": "python",
   "nbconvert_exporter": "python",
   "pygments_lexer": "ipython3",
   "version": "3.11.5"
  }
 },
 "nbformat": 4,
 "nbformat_minor": 5
}
